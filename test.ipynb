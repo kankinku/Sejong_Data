{
 "cells": [
  {
   "cell_type": "code",
   "execution_count": 8,
   "id": "26649c02",
   "metadata": {},
   "outputs": [],
   "source": [
    "import pandas as pd\n",
    "import requests\n",
    "import xml.etree.ElementTree as ET"
   ]
  },
  {
   "cell_type": "code",
   "execution_count": 51,
   "id": "37fdedaf",
   "metadata": {},
   "outputs": [
    {
     "name": "stdout",
     "output_type": "stream",
     "text": [
      "CSV 파일 생성 완료: traffic_lights_filtered.csv\n"
     ]
    }
   ],
   "source": [
    "import requests\n",
    "import pandas as pd\n",
    "import json\n",
    "\n",
    "url = 'http://apis.data.go.kr/5690000/sjTrafficLightInforamtion/sj_00000610'\n",
    "params = {\n",
    "    'serviceKey': \"jLvCDpgyRWwv286cZZNgYlNM5QlnxkY/cqth3U6NFKM0me56sIRmA6IUYXaXVbBX/vsba5X+4SzuLE0PANbRcw==\",\n",
    "    'pageIndex': '1',\n",
    "    'pageUnit': '500',\n",
    "    'dataTy': 'json',\n",
    "}\n",
    "\n",
    "response = requests.get(url, params=params)\n",
    "\n",
    "# 응답에서 body > items 만 추출\n",
    "response_json = response.json()\n",
    "items = response_json.get('body', {}).get('items', [])\n",
    "\n",
    "# 필요한 컬럼만 필터링\n",
    "columns_needed = [\n",
    "    'roadRouteNm','roadKnd', 'la', 'lo', 'sgngnrInstlMthdSe', 'tfclghtSe',\n",
    "    'tfclghtOrdr', 'tfclghtHr', 'signlHrDcsnMthdSe', 'mngInstNm',\n",
    "    'telno', 'flasherOperBgngTm', 'flasherOperEndTm'\n",
    "]\n",
    "\n",
    "# DataFrame 생성 및 컬럼 선택\n",
    "df = pd.DataFrame(items)\n",
    "df = df[columns_needed]\n",
    "\n",
    "# 결과 저장\n",
    "df.to_csv('./dataset/traffic_lights_filtered.csv', index=False, encoding='utf-8-sig')\n",
    "\n",
    "print(\"CSV 파일 생성 완료: traffic_lights_filtered.csv\")\n"
   ]
  },
  {
   "cell_type": "code",
   "execution_count": null,
   "id": "53500157",
   "metadata": {},
   "outputs": [],
   "source": []
  }
 ],
 "metadata": {
  "kernelspec": {
   "display_name": "Python 3",
   "language": "python",
   "name": "python3"
  },
  "language_info": {
   "codemirror_mode": {
    "name": "ipython",
    "version": 3
   },
   "file_extension": ".py",
   "mimetype": "text/x-python",
   "name": "python",
   "nbconvert_exporter": "python",
   "pygments_lexer": "ipython3",
   "version": "3.13.3"
  }
 },
 "nbformat": 4,
 "nbformat_minor": 5
}
