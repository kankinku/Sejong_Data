{
 "cells": [
  {
   "cell_type": "code",
   "execution_count": 8,
   "id": "26649c02",
   "metadata": {},
   "outputs": [],
   "source": [
    "import pandas as pd\n",
    "import requests\n",
    "import xml.etree.ElementTree as ET"
   ]
  },
  {
   "cell_type": "code",
   "execution_count": 8,
   "id": "37fdedaf",
   "metadata": {},
   "outputs": [
    {
     "name": "stdout",
     "output_type": "stream",
     "text": [
      "CSV 파일 생성 완료: traffic_lights_filtered.csv\n"
     ]
    }
   ],
   "source": [
    "import requests\n",
    "import pandas as pd\n",
    "import json\n",
    "\n",
    "url = 'http://apis.data.go.kr/5690000/sjTrafficLightInforamtion/sj_00000610'\n",
    "params = {\n",
    "    'serviceKey': \"jLvCDpgyRWwv286cZZNgYlNM5QlnxkY/cqth3U6NFKM0me56sIRmA6IUYXaXVbBX/vsba5X+4SzuLE0PANbRcw==\",\n",
    "    'pageIndex': '1',\n",
    "    'pageUnit': '3000',\n",
    "    'dataTy': 'json',\n",
    "}\n",
    "\n",
    "response = requests.get(url, params=params)\n",
    "\n",
    "# 응답에서 body > items 만 추출\n",
    "response_json = response.json()\n",
    "items = response_json.get('body', {}).get('items', [])\n",
    "\n",
    "# 필요한 컬럼만 필터링\n",
    "columns_needed = [\n",
    "    'roadRouteNm', 'la', 'lo', 'sgngnrInstlMthdSe', 'tfclghtSe',\n",
    "    'tfclghtOrdr', 'tfclghtHr', 'signlHrDcsnMthdSe', 'mngInstNm',\n",
    "    'telno', 'flasherOperBgngTm', 'flasherOperEndTm'\n",
    "]\n",
    "\n",
    "# DataFrame 생성 및 컬럼 선택\n",
    "df = pd.DataFrame(items)\n",
    "df = df[columns_needed]\n",
    "\n",
    "# 결과 저장\n",
    "df.to_csv('./dataset/traffic_lights_filtered.csv', index=False, encoding='utf-8-sig')\n",
    "\n",
    "print(\"CSV 파일 생성 완료: traffic_lights_filtered.csv\")\n"
   ]
  },
  {
   "cell_type": "code",
   "execution_count": 1,
   "id": "3a757d94",
   "metadata": {},
   "outputs": [
    {
     "name": "stdout",
     "output_type": "stream",
     "text": [
      "Collecting simplekml\n",
      "  Downloading simplekml-1.3.6.tar.gz (52 kB)\n",
      "  Installing build dependencies: started\n",
      "  Installing build dependencies: finished with status 'done'\n",
      "  Getting requirements to build wheel: started\n",
      "  Getting requirements to build wheel: finished with status 'done'\n",
      "  Preparing metadata (pyproject.toml): started\n",
      "  Preparing metadata (pyproject.toml): finished with status 'done'\n",
      "Building wheels for collected packages: simplekml\n",
      "  Building wheel for simplekml (pyproject.toml): started\n",
      "  Building wheel for simplekml (pyproject.toml): finished with status 'done'\n",
      "  Created wheel for simplekml: filename=simplekml-1.3.6-py3-none-any.whl size=65953 sha256=515ae8c5722d5710a788d73ceb353523511b72d0a1fccbe366e250afd2794615\n",
      "  Stored in directory: c:\\users\\user\\appdata\\local\\pip\\cache\\wheels\\fd\\2a\\d1\\84a7abdbb59566c442beb1b4fb946fe1e26c5a48fd1d5e0763\n",
      "Successfully built simplekml\n",
      "Installing collected packages: simplekml\n",
      "Successfully installed simplekml-1.3.6\n"
     ]
    }
   ],
   "source": [
    "!pip install simplekml"
   ]
  },
  {
   "cell_type": "code",
   "execution_count": 7,
   "id": "53500157",
   "metadata": {},
   "outputs": [
    {
     "name": "stdout",
     "output_type": "stream",
     "text": [
      "KML 파일이 생성되었습니다: ./dataset/sejong_traffic_lights.kml\n"
     ]
    }
   ],
   "source": [
    "import csv\n",
    "import simplekml\n",
    "\n",
    "csv_file_path = './dataset/traffic_lights_filtered.csv'\n",
    "kml_file_path = './dataset/sejong_traffic_lights.kml'\n",
    "\n",
    "kml = simplekml.Kml()\n",
    "\n",
    "with open(csv_file_path, newline='', encoding='utf-8-sig') as csvfile:\n",
    "    reader = csv.DictReader(csvfile)\n",
    "    reader.fieldnames = [name.strip() for name in reader.fieldnames]\n",
    "\n",
    "    for row in reader:\n",
    "        row = {k.strip(): v.strip() for k, v in row.items()}\n",
    "\n",
    "        try:\n",
    "            latitude = float(row['la'])\n",
    "            longitude = float(row['lo'])\n",
    "\n",
    "            description = (\n",
    "                f\"도로명: {row['roadRouteNm']}\\n\"\n",
    "                f\"설치방식: {row['sgngnrInstlMthdSe']}\\n\"\n",
    "                f\"신호등 종류: {row['tfclghtSe']}\\n\"\n",
    "                f\"신호 순서: {row['tfclghtOrdr']}\\n\"\n",
    "                f\"신호등 운영시간: {row['tfclghtHr']}\\n\"\n",
    "                f\"운영시간 결정 방식: {row['signlHrDcsnMthdSe']}\\n\"\n",
    "                f\"관리기관: {row['mngInstNm']}\\n\"\n",
    "                f\"연락처: {row['telno']}\\n\"\n",
    "                f\"점멸기 시작시간: {row['flasherOperBgngTm']}\\n\"\n",
    "                f\"점멸기 종료시간: {row['flasherOperEndTm']}\"\n",
    "            )\n",
    "\n",
    "            kml.newpoint(\n",
    "                name=row['roadRouteNm'],\n",
    "                coords=[(longitude, latitude)],\n",
    "                description=description\n",
    "            )\n",
    "        except Exception as e:\n",
    "            print(f\"오류 발생 - 행 건너뜀: {e}\")\n",
    "\n",
    "kml.save(kml_file_path)\n",
    "print(f\"KML 파일이 생성되었습니다: {kml_file_path}\")\n"
   ]
  },
  {
   "cell_type": "code",
   "execution_count": 5,
   "id": "57c902b5",
   "metadata": {},
   "outputs": [],
   "source": [
    "import pandas as pd\n",
    "df = pd.read_csv(\"./dataset/traffic_lights_filtered.csv\")"
   ]
  },
  {
   "cell_type": "code",
   "execution_count": 6,
   "id": "940252b3",
   "metadata": {},
   "outputs": [
    {
     "data": {
      "text/plain": [
       "Index(['roadRouteNm', 'la', 'lo', 'sgngnrInstlMthdSe', 'tfclghtSe',\n",
       "       'tfclghtOrdr', 'tfclghtHr', 'signlHrDcsnMthdSe', 'mngInstNm', 'telno',\n",
       "       'flasherOperBgngTm', 'flasherOperEndTm'],\n",
       "      dtype='object')"
      ]
     },
     "execution_count": 6,
     "metadata": {},
     "output_type": "execute_result"
    }
   ],
   "source": [
    "df.columns"
   ]
  },
  {
   "cell_type": "code",
   "execution_count": 6,
   "id": "5552ad4d",
   "metadata": {},
   "outputs": [
    {
     "name": "stdout",
     "output_type": "stream",
     "text": [
      "5개의 항목을 수집하여 CSV로 저장했습니다.\n"
     ]
    }
   ],
   "source": [
    "import requests\n",
    "import xml.etree.ElementTree as ET\n",
    "import pandas as pd\n",
    "\n",
    "# API 기본 정보\n",
    "url = 'http://apis.data.go.kr/5690000/sjCrosswalkInformation/sj_00001170'\n",
    "params = {\n",
    "    'serviceKey': 'jLvCDpgyRWwv286cZZNgYlNM5QlnxkY/cqth3U6NFKM0me56sIRmA6IUYXaXVbBX/vsba5X+4SzuLE0PANbRcw==',\n",
    "    'pageUnit': '1000',\n",
    "    'dataTy': 'xml',\n",
    "    'searchCondition': 'cartrk_Co',\n",
    "    'searchKeyword': '4'\n",
    "}\n",
    "\n",
    "all_items = []\n",
    "page = 1\n",
    "\n",
    "while True:\n",
    "    params['pageIndex'] = str(page)\n",
    "    response = requests.get(url, params=params)\n",
    "    xml_text = response.content.decode('utf-8')\n",
    "    root = ET.fromstring(xml_text)\n",
    "\n",
    "    current_items = root.findall('.//item')\n",
    "    if not current_items:\n",
    "        break\n",
    "\n",
    "    for item in current_items:\n",
    "        row = {\n",
    "            '도로명': item.findtext('roadNm'),\n",
    "            '도로명주소': item.findtext('roadNmAddr'),\n",
    "            '지번주소': item.findtext('addr'),\n",
    "            '녹색신호시간': item.findtext('greenSignlHr'),\n",
    "            '적색신호시간': item.findtext('redSignlHr'),\n",
    "            '위도': item.findtext('la'),\n",
    "            '경도': item.findtext('lo'),\n",
    "        }\n",
    "        all_items.append(row)\n",
    "\n",
    "    page += 1\n",
    "\n",
    "# DataFrame 변환 및 저장\n",
    "df = pd.DataFrame(all_items)\n",
    "df.to_csv('./dataset/crosswalk_info.csv', index=False, encoding='utf-8-sig')\n",
    "\n",
    "print(f\"{len(df)}개의 항목을 수집하여 CSV로 저장했습니다.\")\n"
   ]
  },
  {
   "cell_type": "code",
   "execution_count": null,
   "id": "6f25450d",
   "metadata": {},
   "outputs": [],
   "source": []
  }
 ],
 "metadata": {
  "kernelspec": {
   "display_name": "Python 3",
   "language": "python",
   "name": "python3"
  },
  "language_info": {
   "codemirror_mode": {
    "name": "ipython",
    "version": 3
   },
   "file_extension": ".py",
   "mimetype": "text/x-python",
   "name": "python",
   "nbconvert_exporter": "python",
   "pygments_lexer": "ipython3",
   "version": "3.13.3"
  }
 },
 "nbformat": 4,
 "nbformat_minor": 5
}
