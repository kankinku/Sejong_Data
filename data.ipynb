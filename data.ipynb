{
 "cells": [
  {
   "cell_type": "code",
   "execution_count": 2,
   "id": "5e9af2ce",
   "metadata": {},
   "outputs": [
    {
     "name": "stdout",
     "output_type": "stream",
     "text": [
      "Collecting geopy\n",
      "  Downloading geopy-2.4.1-py3-none-any.whl.metadata (6.8 kB)\n",
      "Collecting geographiclib<3,>=1.52 (from geopy)\n",
      "  Downloading geographiclib-2.0-py3-none-any.whl.metadata (1.4 kB)\n",
      "Downloading geopy-2.4.1-py3-none-any.whl (125 kB)\n",
      "Downloading geographiclib-2.0-py3-none-any.whl (40 kB)\n",
      "Installing collected packages: geographiclib, geopy\n",
      "\n",
      "   ---------------------------------------- 0/2 [geographiclib]\n",
      "   ---------------------------------------- 0/2 [geographiclib]\n",
      "   -------------------- ------------------- 1/2 [geopy]\n",
      "   -------------------- ------------------- 1/2 [geopy]\n",
      "   -------------------- ------------------- 1/2 [geopy]\n",
      "   -------------------- ------------------- 1/2 [geopy]\n",
      "   -------------------- ------------------- 1/2 [geopy]\n",
      "   -------------------- ------------------- 1/2 [geopy]\n",
      "   -------------------- ------------------- 1/2 [geopy]\n",
      "   -------------------- ------------------- 1/2 [geopy]\n",
      "   ---------------------------------------- 2/2 [geopy]\n",
      "\n",
      "Successfully installed geographiclib-2.0 geopy-2.4.1\n"
     ]
    }
   ],
   "source": [
    "!pip install geopy"
   ]
  },
  {
   "cell_type": "code",
   "execution_count": null,
   "id": "5f27ca6b",
   "metadata": {},
   "outputs": [
    {
     "name": "stdout",
     "output_type": "stream",
     "text": [
      "주소 검색 실패: 세종특별자치시 다정동 363-422\n",
      "None 세종특별자치시 종촌동 710-0\n"
     ]
    }
   ],
   "source": [
    "from geopy.geocoders import Nominatim\n",
    "from geopy.exc import GeocoderTimedOut\n",
    "\n",
    "geolocator = Nominatim(user_agent=\"map_demo\")\n",
    "\n",
    "def get_coords(address):\n",
    "    try:\n",
    "        location = geolocator.geocode(address, timeout=10)\n",
    "        if location:\n",
    "            return (location.latitude, location.longitude)\n",
    "        else:\n",
    "            print(f\"주소 검색 실패: {address}\")\n",
    "            return None\n",
    "    except GeocoderTimedOut:\n",
    "        print(f\"요청 타임아웃: {address}\")\n",
    "        return None\n",
    "\n",
    "start_address = \"세종특별자치시 다정동 363-422\"\n",
    "end_address = \"세종특별자치시 종촌동 710-0\"\n",
    "\n",
    "start_coords = get_coords(start_address)\n",
    "end_coords = get_coords(end_address)\n",
    "\n",
    "if start_coords and end_coords:\n",
    "    print(\"기점 좌표:\", start_coords)\n",
    "    print(\"종점 좌표:\", end_coords)\n"
   ]
  },
  {
   "cell_type": "code",
   "execution_count": null,
   "id": "8899a75c",
   "metadata": {},
   "outputs": [],
   "source": []
  }
 ],
 "metadata": {
  "kernelspec": {
   "display_name": "Python 3",
   "language": "python",
   "name": "python3"
  },
  "language_info": {
   "codemirror_mode": {
    "name": "ipython",
    "version": 3
   },
   "file_extension": ".py",
   "mimetype": "text/x-python",
   "name": "python",
   "nbconvert_exporter": "python",
   "pygments_lexer": "ipython3",
   "version": "3.13.3"
  }
 },
 "nbformat": 4,
 "nbformat_minor": 5
}
