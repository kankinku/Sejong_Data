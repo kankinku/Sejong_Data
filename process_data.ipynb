{
 "cells": [
  {
   "cell_type": "code",
   "execution_count": 3,
   "id": "692b1037",
   "metadata": {},
   "outputs": [],
   "source": [
    "import pandas as pd"
   ]
  },
  {
   "cell_type": "code",
   "execution_count": null,
   "id": "4bb7d1c0",
   "metadata": {},
   "outputs": [],
   "source": [
    "# 엑셀 파일 읽기 (시트 이름이 있는 경우 지정 가능)\n",
    "df = pd.read_excel(\"Sejong_Data.xls\")  # sheet_name 생략하면 기본 첫 시트 읽음"
   ]
  },
  {
   "cell_type": "code",
   "execution_count": 26,
   "id": "e00e09b1",
   "metadata": {},
   "outputs": [
    {
     "data": {
      "text/plain": [
       "Index(['3', '일자', '도로명', '방향', '00시', '01시', '02시', '03시', '04시', '05시', '06시',\n",
       "       '07시', '08시', '09시', '10시', '11시', '12시', '13시', '14시', '15시', '16시',\n",
       "       '17시', '18시', '19시', '20시', '21시', '22시', '23시', '평균통행속도'],\n",
       "      dtype='object')"
      ]
     },
     "execution_count": 26,
     "metadata": {},
     "output_type": "execute_result"
    }
   ],
   "source": [
    "df = pd.read_csv(\"Sejong_Data.csv\")\n",
    "\n",
    "df.columns"
   ]
  },
  {
   "cell_type": "code",
   "execution_count": null,
   "id": "e9bf1917",
   "metadata": {},
   "outputs": [],
   "source": [
    "df.drop()"
   ]
  }
 ],
 "metadata": {
  "kernelspec": {
   "display_name": "Python 3",
   "language": "python",
   "name": "python3"
  },
  "language_info": {
   "codemirror_mode": {
    "name": "ipython",
    "version": 3
   },
   "file_extension": ".py",
   "mimetype": "text/x-python",
   "name": "python",
   "nbconvert_exporter": "python",
   "pygments_lexer": "ipython3",
   "version": "3.13.3"
  }
 },
 "nbformat": 4,
 "nbformat_minor": 5
}
