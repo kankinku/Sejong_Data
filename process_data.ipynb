{
 "cells": [
  {
   "cell_type": "code",
   "execution_count": 3,
   "id": "692b1037",
   "metadata": {},
   "outputs": [],
   "source": [
    "import pandas as pd"
   ]
  },
  {
   "cell_type": "code",
   "execution_count": null,
   "id": "4bb7d1c0",
   "metadata": {},
   "outputs": [],
   "source": [
    "# 엑셀 파일 읽기 (시트 이름이 있는 경우 지정 가능)\n",
    "df = pd.read_excel(\"Sejong_Data.xls\")  # sheet_name 생략하면 기본 첫 시트 읽음"
   ]
  },
  {
   "cell_type": "code",
   "execution_count": 4,
   "id": "e00e09b1",
   "metadata": {},
   "outputs": [
    {
     "name": "stdout",
     "output_type": "stream",
     "text": [
      "\n",
      "Unnamed: 0 컬럼 처리 중...\n"
     ]
    },
    {
     "ename": "NotADirectoryError",
     "evalue": "[WinError 267] 디렉터리 이름이 올바르지 않습니다: 'all_columns_split\\\\Unnamed: 0_분할'",
     "output_type": "error",
     "traceback": [
      "\u001b[31m---------------------------------------------------------------------------\u001b[39m",
      "\u001b[31mNotADirectoryError\u001b[39m                        Traceback (most recent call last)",
      "\u001b[36mCell\u001b[39m\u001b[36m \u001b[39m\u001b[32mIn[4]\u001b[39m\u001b[32m, line 37\u001b[39m\n\u001b[32m     35\u001b[39m \u001b[38;5;66;03m# 사용 예시\u001b[39;00m\n\u001b[32m     36\u001b[39m input_file = \u001b[33m'\u001b[39m\u001b[33m./dataset/Sejong_Data.csv\u001b[39m\u001b[33m'\u001b[39m\n\u001b[32m---> \u001b[39m\u001b[32m37\u001b[39m \u001b[43msplit_csv_by_all_columns\u001b[49m\u001b[43m(\u001b[49m\u001b[43minput_file\u001b[49m\u001b[43m,\u001b[49m\u001b[43m \u001b[49m\u001b[33;43m'\u001b[39;49m\u001b[33;43mall_columns_split\u001b[39;49m\u001b[33;43m'\u001b[39;49m\u001b[43m)\u001b[49m\n",
      "\u001b[36mCell\u001b[39m\u001b[36m \u001b[39m\u001b[32mIn[4]\u001b[39m\u001b[32m, line 19\u001b[39m, in \u001b[36msplit_csv_by_all_columns\u001b[39m\u001b[34m(input_file, output_base_dir)\u001b[39m\n\u001b[32m     17\u001b[39m column_output_dir = os.path.join(output_base_dir, \u001b[33mf\u001b[39m\u001b[33m'\u001b[39m\u001b[38;5;132;01m{\u001b[39;00mcolumn_name\u001b[38;5;132;01m}\u001b[39;00m\u001b[33m_분할\u001b[39m\u001b[33m'\u001b[39m)\n\u001b[32m     18\u001b[39m \u001b[38;5;28;01mif\u001b[39;00m \u001b[38;5;129;01mnot\u001b[39;00m os.path.exists(column_output_dir):\n\u001b[32m---> \u001b[39m\u001b[32m19\u001b[39m     \u001b[43mos\u001b[49m\u001b[43m.\u001b[49m\u001b[43mmakedirs\u001b[49m\u001b[43m(\u001b[49m\u001b[43mcolumn_output_dir\u001b[49m\u001b[43m)\u001b[49m\n\u001b[32m     21\u001b[39m \u001b[38;5;66;03m# 해당 컬럼의 고유값들로 그룹화\u001b[39;00m\n\u001b[32m     22\u001b[39m grouped = df.groupby(column_name)\n",
      "\u001b[36mFile \u001b[39m\u001b[32m<frozen os>:227\u001b[39m, in \u001b[36mmakedirs\u001b[39m\u001b[34m(name, mode, exist_ok)\u001b[39m\n",
      "\u001b[31mNotADirectoryError\u001b[39m: [WinError 267] 디렉터리 이름이 올바르지 않습니다: 'all_columns_split\\\\Unnamed: 0_분할'"
     ]
    }
   ],
   "source": [
    "import pandas as pd\n",
    "import os\n",
    "\n",
    "def split_csv_by_all_columns(input_file, output_base_dir='output'):\n",
    "    # 메인 출력 디렉토리 생성\n",
    "    if not os.path.exists(output_base_dir):\n",
    "        os.makedirs(output_base_dir)\n",
    "    \n",
    "    # CSV 파일 읽기\n",
    "    df = pd.read_csv(input_file, encoding='utf-8')\n",
    "    \n",
    "    # 모든 컬럼에 대해 반복 처리\n",
    "    for column_name in df.columns:\n",
    "        print(f'\\n{column_name} 컬럼 처리 중...')\n",
    "        \n",
    "        # 각 컬럼별 출력 디렉토리 생성\n",
    "        column_output_dir = os.path.join(output_base_dir, f'{column_name}_분할')\n",
    "        if not os.path.exists(column_output_dir):\n",
    "            os.makedirs(column_output_dir)\n",
    "        \n",
    "        # 해당 컬럼의 고유값들로 그룹화\n",
    "        grouped = df.groupby(column_name)\n",
    "        \n",
    "        # 각 그룹별로 별도 CSV 파일로 저장\n",
    "        for value, group_df in grouped:\n",
    "            # 파일명에서 특수문자 제거\n",
    "            safe_filename = str(value).replace('/', '_').replace('\\\\', '_').replace(':', '_')\n",
    "            safe_filename = safe_filename.replace('*', '_').replace('?', '_').replace('<', '_')\n",
    "            safe_filename = safe_filename.replace('>', '_').replace('|', '_')\n",
    "            \n",
    "            output_file = os.path.join(column_output_dir, f'{safe_filename}.csv')\n",
    "            group_df.to_csv(output_file, index=False, encoding='utf-8')\n",
    "            print(f'  {value}: {len(group_df)}개 행 저장')\n",
    "\n",
    "# 사용 예시\n",
    "input_file = './dataset/Sejong_Data.csv'\n",
    "split_csv_by_all_columns(input_file, 'all_columns_split')\n"
   ]
  },
  {
   "cell_type": "code",
   "execution_count": 5,
   "id": "e9bf1917",
   "metadata": {},
   "outputs": [],
   "source": [
    "df = pd.read_csv(\"./dataset/Sejong_Data.csv\")"
   ]
  },
  {
   "cell_type": "code",
   "execution_count": null,
   "id": "5093fa54",
   "metadata": {},
   "outputs": [
    {
     "name": "stdout",
     "output_type": "stream",
     "text": [
      "['정안세종로', '보듬8로', nan, '세종오송로', '남세종로', '달빛로', '집현서로', '집현서1로', '행복길', '당산로', '허만석로', '일반국도36호선', '시목부강로', '평균통행속도', '지방도96호선', '새내로', '대평로', '보람동로', '새롬다정로', '조치원로', '행복대로', '연청로', '보람서로', '보듬7로', '세종1로', '미리내로', '청연로', '산학리길', '임난수로', '시청대로', '일반국도1호선', '절재로', '한누리대로', '평기길', '갈매로', '일반국도23호선', '충현로', '지방도604호선', '어울로', '월산공단로', '소담로', '용연로', '집현중앙로', '새롬중앙로', '세종로']\n"
     ]
    }
   ],
   "source": [
    "arr = list(set(df['도로명']))\n",
    "print(arr)"
   ]
  },
  {
   "cell_type": "code",
   "execution_count": null,
   "id": "9ecce68e",
   "metadata": {},
   "outputs": [],
   "source": [
    "for i in arr:\n",
    "    results = []\n",
    "    matched_data = df[df['도로명'] == i]\n",
    "    matched_data.to_csv(f\"./dataset/split_Data/{i}_data.csv\", index=False)\n"
   ]
  },
  {
   "cell_type": "code",
   "execution_count": null,
   "id": "0b0d129a",
   "metadata": {},
   "outputs": [],
   "source": []
  }
 ],
 "metadata": {
  "kernelspec": {
   "display_name": "Python 3",
   "language": "python",
   "name": "python3"
  },
  "language_info": {
   "codemirror_mode": {
    "name": "ipython",
    "version": 3
   },
   "file_extension": ".py",
   "mimetype": "text/x-python",
   "name": "python",
   "nbconvert_exporter": "python",
   "pygments_lexer": "ipython3",
   "version": "3.13.3"
  }
 },
 "nbformat": 4,
 "nbformat_minor": 5
}
